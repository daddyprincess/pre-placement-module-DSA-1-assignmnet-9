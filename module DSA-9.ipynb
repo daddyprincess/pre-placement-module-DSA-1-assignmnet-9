{
 "cells": [
  {
   "cell_type": "markdown",
   "id": "f5ace67e-4e2e-4d95-b93b-34ab90ef5044",
   "metadata": {},
   "source": [
    "## 1.Given a 1-indexed array of integers numbers that are already sorted in non-decreasing order, find two numbers such that they add up to a specific target number. Let these two numbers be numbers[index1] and numbers[index2] where 1 <= index1 < index2 < numbers.length. Return the indices of the two numbers, index1, and index2, added by one as an integer array [index1, index2] of length 2.The tests are generated such that there is exactly one solution. You may not use the same element twice. Your solution must use only constant extra space.Input: numbers = [2,7,11,15], target = 9Output: [1,2]Explanation: The sum of 2 and 7 is 9. Therefore, index1 = 1, index2 = 2. We return [1, 2].\n"
   ]
  },
  {
   "cell_type": "code",
   "execution_count": 1,
   "id": "c2a3844a-21d5-4208-9715-30629ce3c629",
   "metadata": {},
   "outputs": [
    {
     "name": "stdout",
     "output_type": "stream",
     "text": [
      "[1, 2]\n"
     ]
    }
   ],
   "source": [
    "def twoSum(numbers, target):\n",
    "    left = 0\n",
    "    right = len(numbers) - 1\n",
    "\n",
    "    while left < right:\n",
    "        current_sum = numbers[left] + numbers[right]\n",
    "\n",
    "        if current_sum == target:\n",
    "            return [left+1, right+1]  # Adding 1 to convert from 0-indexed to 1-indexed\n",
    "\n",
    "        elif current_sum < target:\n",
    "            left += 1\n",
    "\n",
    "        else:\n",
    "            right -= 1\n",
    "\n",
    "    # If no solution is found\n",
    "    return []\n",
    "\n",
    "# Example usage:\n",
    "numbers = [2, 7, 11, 15]\n",
    "target = 9\n",
    "result = twoSum(numbers, target)\n",
    "print(result)  "
   ]
  },
  {
   "cell_type": "code",
   "execution_count": null,
   "id": "ca9d0377-b87d-4f12-995c-b43ab40fb521",
   "metadata": {},
   "outputs": [],
   "source": [
    "To solve this problem, we can use the two-pointer approach since the array is already sorted in non-\n",
    "decreasing order. We will initialize two pointers, left and right, pointing to the beginning and end of the\n",
    "array, respectively. We will compare the sum of the numbers at these pointers with the target number. If the\n",
    "sum is equal to the target, we have found our solution. If the sum is less than the target, we move the\n",
    "left pointer to the right to increase the sum. If the sum is greater than the target, we move the right\n",
    "pointer to the left to decrease the sum. We continue this process until we find the two numbers that add up\n",
    "to the target."
   ]
  },
  {
   "cell_type": "markdown",
   "id": "e5cbe4eb-316d-4cc8-b2a7-a79304c50052",
   "metadata": {},
   "source": [
    "## 2.Given an array of integer nums sorted in non-decreasing order, find the starting and ending position of a given target value.If the target is not found in the array, return [-1, -1].You must write an algorithm with O(log n) runtime complexityInput: nums = [5,7,7,8,8,10], target = 8Output: [3,4]"
   ]
  },
  {
   "cell_type": "code",
   "execution_count": 2,
   "id": "1547c60a-a4dd-4ca4-9914-3130df413f07",
   "metadata": {},
   "outputs": [
    {
     "name": "stdout",
     "output_type": "stream",
     "text": [
      "[3, 4]\n"
     ]
    }
   ],
   "source": [
    "def searchRange(nums, target):\n",
    "    def findStart(nums, target):\n",
    "        start = -1\n",
    "        left = 0\n",
    "        right = len(nums) - 1\n",
    "\n",
    "        while left <= right:\n",
    "            mid = left + (right - left) // 2\n",
    "\n",
    "            if nums[mid] >= target:\n",
    "                right = mid - 1\n",
    "            else:\n",
    "                left = mid + 1\n",
    "\n",
    "            if nums[mid] == target:\n",
    "                start = mid\n",
    "\n",
    "        return start\n",
    "\n",
    "    def findEnd(nums, target):\n",
    "        end = -1\n",
    "        left = 0\n",
    "        right = len(nums) - 1\n",
    "\n",
    "        while left <= right:\n",
    "            mid = left + (right - left) // 2\n",
    "\n",
    "            if nums[mid] <= target:\n",
    "                left = mid + 1\n",
    "            else:\n",
    "                right = mid - 1\n",
    "\n",
    "            if nums[mid] == target:\n",
    "                end = mid\n",
    "\n",
    "        return end\n",
    "\n",
    "    start = findStart(nums, target)\n",
    "    end = findEnd(nums, target)\n",
    "\n",
    "    return [start, end]\n",
    "\n",
    "# Example usage:\n",
    "nums = [5, 7, 7, 8, 8, 10]\n",
    "target = 8\n",
    "result = searchRange(nums, target)\n",
    "print(result)  "
   ]
  },
  {
   "cell_type": "markdown",
   "id": "582c24a6-e544-4c8f-838a-93a294772dfe",
   "metadata": {},
   "source": [
    "## 3.A peak element is an element that is strictly greater than its neighbors.Given a 0-indexed integer array nums, find a peak element, and return its index. If the array contains multiple peaks, return the index to any of the peaks.You may imagine that nums[-1] = nums[n] = -∞. In other words, an element is always considered to be strictly greater than a neighbor that is outside the array.You must write an algorithm that runs in O(log n) time.Input: nums = [1,2,3,1]Output: 2Explanation: 3 is a peak element and your function should return the index number 2."
   ]
  },
  {
   "cell_type": "code",
   "execution_count": 3,
   "id": "764eace4-6f07-4aa6-85af-3596341906fe",
   "metadata": {},
   "outputs": [
    {
     "name": "stdout",
     "output_type": "stream",
     "text": [
      "2\n"
     ]
    }
   ],
   "source": [
    "def findPeakElement(nums):\n",
    "    left = 0\n",
    "    right = len(nums) - 1\n",
    "\n",
    "    while left < right:\n",
    "        mid = left + (right - left) // 2\n",
    "\n",
    "        if nums[mid] < nums[mid + 1]:\n",
    "            left = mid + 1\n",
    "        else:\n",
    "            right = mid\n",
    "\n",
    "    return left\n",
    "\n",
    "# Example usage:\n",
    "nums = [1, 2, 3, 1]\n",
    "result = findPeakElement(nums)\n",
    "print(result)  "
   ]
  },
  {
   "cell_type": "code",
   "execution_count": null,
   "id": "28e1e659-bee5-43cb-afb6-3595de9ba259",
   "metadata": {},
   "outputs": [],
   "source": [
    "To find a peak element in a given array nums using an algorithm with O(log n) time complexity, we can use a\n",
    "modified binary search approach.\n",
    "\n",
    "In this implementation, we start with the left pointer at the beginning of the array and the right pointer\n",
    "at the end. We perform binary search by calculating the mid index and comparing nums[mid] with its right \n",
    "neighbor nums[mid + 1]. If nums[mid] is less than nums[mid + 1], it means the peak element is on the right\n",
    "side, so we move the left pointer to mid + 1. Otherwise, if nums[mid] is greater than or equal to nums[mid\n",
    "+ 1], it means the peak element is on the left side or mid itself is a peak. In that case, we move the \n",
    "right pointer to mid.\n",
    "\n",
    "We continue this process until the left and right pointers converge to the same index, which represents the\n",
    "peak element.\n",
    "\n",
    "The time complexity of this solution is O(log n), where n is the length of the input array. Since we are\n",
    "reducing the search space by half in each iteration, the time complexity is logarithmic."
   ]
  },
  {
   "cell_type": "markdown",
   "id": "8c60ab6b-6e62-4f4d-8b8f-423aa8e7a988",
   "metadata": {},
   "source": [
    "## 4.Given a sorted array of distinct integers and a target value, return the index if the target is found. If not, return the index where it would be if it were inserted in order.You must write an algorithm with O(log n) runtime complexity.Input: nums = [1,3,5,6], target = 5Output: 2Input: nums = [1,3,5,6], target = 7Output: 4"
   ]
  },
  {
   "cell_type": "code",
   "execution_count": 4,
   "id": "8cd78a54-0235-42e6-8df7-1cc4337d737d",
   "metadata": {},
   "outputs": [
    {
     "name": "stdout",
     "output_type": "stream",
     "text": [
      "2\n",
      "4\n"
     ]
    }
   ],
   "source": [
    "def searchInsert(nums, target):\n",
    "    left = 0\n",
    "    right = len(nums)\n",
    "\n",
    "    while left < right:\n",
    "        mid = left + (right - left) // 2\n",
    "\n",
    "        if nums[mid] == target:\n",
    "            return mid\n",
    "        elif nums[mid] < target:\n",
    "            left = mid + 1\n",
    "        else:\n",
    "            right = mid\n",
    "\n",
    "    return left\n",
    "\n",
    "# Example usage:\n",
    "nums = [1, 3, 5, 6]\n",
    "target = 5\n",
    "result = searchInsert(nums, target)\n",
    "print(result)  \n",
    "\n",
    "target = 7\n",
    "result = searchInsert(nums, target)\n",
    "print(result)"
   ]
  },
  {
   "cell_type": "markdown",
   "id": "bb1419c3-2349-43cd-8ad4-37e8ad5c40ec",
   "metadata": {},
   "source": [
    "## 5.Find the majority element in the array. A majority element in an array A[] of size n is an element that appears more than n/2 times (and hence there is at most one such element). Input: A[]={3, 3, 4, 2, 4, 4, 2, 4, 4}Output: 4Explanation: The frequency of 4 is 5 which is greater than half of the size of the array size. "
   ]
  },
  {
   "cell_type": "code",
   "execution_count": 5,
   "id": "95c1bc0e-4563-441b-9928-76c826fab36d",
   "metadata": {},
   "outputs": [
    {
     "name": "stdout",
     "output_type": "stream",
     "text": [
      "4\n"
     ]
    }
   ],
   "source": [
    "def findMajorityElement(nums):\n",
    "    candidate = None\n",
    "    count = 0\n",
    "\n",
    "    for num in nums:\n",
    "        if count == 0:\n",
    "            candidate = num\n",
    "            count = 1\n",
    "        elif num == candidate:\n",
    "            count += 1\n",
    "        else:\n",
    "            count -= 1\n",
    "\n",
    "    return candidate\n",
    "\n",
    "# Example usage:\n",
    "nums = [3, 3, 4, 2, 4, 4, 2, 4, 4]\n",
    "result = findMajorityElement(nums)\n",
    "print(result)  "
   ]
  },
  {
   "cell_type": "code",
   "execution_count": null,
   "id": "8d9f9df3-7c23-4898-a73c-5e8d79cf4d6f",
   "metadata": {},
   "outputs": [],
   "source": [
    "To find the majority element in an array A[] of size n, where a majority element appears more than n/2 \n",
    "times, we can use the Boyer-Moore Voting Algorithm. This algorithm allows us to find the majority element\n",
    "in linear time complexity, O(n), and with constant space complexity.\n",
    "\n",
    "In this implementation, we initialize candidate and count variables. We iterate through the array nums, and \n",
    "for each element num, we update the candidate and count based on the Boyer-Moore Voting Algorithm. If the \n",
    "count becomes zero, we update the candidate to the current element and reset the count to 1. If the current\n",
    "element is the same as the candidate, we increment the count. Otherwise, we decrement the count. At the end\n",
    "of the loop, the candidate will hold the majority element."
   ]
  },
  {
   "cell_type": "markdown",
   "id": "649a2258-cf7b-45e2-a292-4a9f01fd1d97",
   "metadata": {},
   "source": [
    "## 6.You are a product manager and currently leading a team to develop a new product. Unfortunately, the latest version of your product fails the quality check. Since each version is developed based on the previous version, all the versions after a bad version are also bad.Suppose you have n versions [1, 2, ..., n] and you want to find out the first bad one, which causes all the following ones to be bad.You are given an API bool isBadVersion(version) which returns whether the version is bad. Implement a function to find the first bad version. You should minimize the number of calls to the API.Input: n = 5, bad = 4Output: 4Explanation:call isBadVersion(3) -> falsecall isBadVersion(5) -> truecall isBadVersion(4) -> trueThen 4 is the first bad version."
   ]
  },
  {
   "cell_type": "code",
   "execution_count": 16,
   "id": "12b32d64-5d0e-4398-b63e-b1b232dd28fb",
   "metadata": {},
   "outputs": [
    {
     "name": "stdout",
     "output_type": "stream",
     "text": [
      "4\n"
     ]
    }
   ],
   "source": [
    "def isBadVersion(n):\n",
    "    left = 4\n",
    "    right = n\n",
    "\n",
    "    while left < right:\n",
    "        mid = left + (right - left) // 2\n",
    "\n",
    "        if isBadVersion(mid):\n",
    "            right = mid\n",
    "        else:\n",
    "            left = mid + 1\n",
    "\n",
    "    return left\n",
    "\n",
    "# Example usage:\n",
    "n = 5\n",
    "result = isBadVersion(n)\n",
    "print(result)  "
   ]
  },
  {
   "cell_type": "code",
   "execution_count": null,
   "id": "f18bdc2a-5439-4ce2-8d85-8ec066a114fd",
   "metadata": {},
   "outputs": [],
   "source": [
    "In this implementation, we maintain two pointers, left and right, initially set to the first and last\n",
    "versions respectively. We perform binary search by calculating the mid version and calling the isBadVersion\n",
    "API. If the mid version is bad, we update the right pointer to mid, indicating that the first bad version \n",
    "is on or before mid. Otherwise, we update the left pointer to mid + 1, indicating that the first bad version\n",
    "is after mid. We continue this process until the left and right pointers meet, at which point we have found\n",
    "the first bad version.\n",
    "\n",
    "The time complexity of this solution is O(log n), where n is the number of versions, as we perform binary\n",
    "search to find the first bad version. The number of API calls is minimized by dividing the search range in\n",
    "half at each step."
   ]
  },
  {
   "cell_type": "markdown",
   "id": "ed1f2b69-f1e2-4b9b-98bb-87f5c2a4aa4a",
   "metadata": {},
   "source": [
    "## 7.Given an array of integers, find the inversion of an array. Formally, two elements a[i] and a[j] form an inversion if a[i] > a[j] and i < j.N=5, arr[] = {2, 4, 1, 3, 5}Output: 3Explanation: (2,1) (4,1) and (4,3) forms an inversion in an array"
   ]
  },
  {
   "cell_type": "code",
   "execution_count": 17,
   "id": "1ec52e7c-0385-481a-9153-28007322f789",
   "metadata": {},
   "outputs": [
    {
     "name": "stdout",
     "output_type": "stream",
     "text": [
      "3\n"
     ]
    }
   ],
   "source": [
    "def mergeSort(arr):\n",
    "    if len(arr) <= 1:\n",
    "        return arr, 0\n",
    "\n",
    "    mid = len(arr) // 2\n",
    "    left, inv_left = mergeSort(arr[:mid])\n",
    "    right, inv_right = mergeSort(arr[mid:])\n",
    "    merged, inv_merge = merge(left, right)\n",
    "\n",
    "    return merged, inv_left + inv_right + inv_merge\n",
    "\n",
    "def merge(left, right):\n",
    "    merged = []\n",
    "    inversions = 0\n",
    "    i, j = 0, 0\n",
    "\n",
    "    while i < len(left) and j < len(right):\n",
    "        if left[i] <= right[j]:\n",
    "            merged.append(left[i])\n",
    "            i += 1\n",
    "        else:\n",
    "            merged.append(right[j])\n",
    "            j += 1\n",
    "            inversions += len(left) - i\n",
    "\n",
    "    merged.extend(left[i:])\n",
    "    merged.extend(right[j:])\n",
    "\n",
    "    return merged, inversions\n",
    "\n",
    "# Example usage:\n",
    "arr = [2, 4, 1, 3, 5]\n",
    "result, inversions = mergeSort(arr)\n",
    "print(inversions)  "
   ]
  },
  {
   "cell_type": "code",
   "execution_count": null,
   "id": "44e59f76-5311-4ab8-8c89-206872d67c16",
   "metadata": {},
   "outputs": [],
   "source": [
    "In this implementation, the mergeSort function recursively divides the array into smaller subarrays until\n",
    "the base case of a single element is reached. Then, it merges the sorted subarrays while counting the\n",
    "number of inversions during the merge step. The merge function merges two sorted arrays while keeping track\n",
    "of the number of inversions.\n",
    "\n",
    "The time complexity of this solution is O(n log n) since merge sort has that time complexity. The number of\n",
    "inversions is counted during the merge step, which takes linear time."
   ]
  },
  {
   "cell_type": "markdown",
   "id": "4a546473-339d-409f-9782-d3ad924ac0b0",
   "metadata": {},
   "source": [
    "## 8.Given three arrays sorted in non-decreasing order, print all common elements in these arrays.ar1[] = {1, 5, 10, 20, 40, 80} ar2[] = {6, 7, 20, 80, 100} ar3[] = {3, 4, 15, 20, 30, 70, 80, 120} Output: 20, 80"
   ]
  },
  {
   "cell_type": "code",
   "execution_count": 18,
   "id": "335d3b16-e148-420d-8065-a7d2b35ef417",
   "metadata": {},
   "outputs": [
    {
     "name": "stdout",
     "output_type": "stream",
     "text": [
      "[20, 80]\n"
     ]
    }
   ],
   "source": [
    "def findCommonElements(arr1, arr2, arr3):\n",
    "    n1, n2, n3 = len(arr1), len(arr2), len(arr3)\n",
    "    i, j, k = 0, 0, 0\n",
    "    commonElements = []\n",
    "\n",
    "    while i < n1 and j < n2 and k < n3:\n",
    "        if arr1[i] == arr2[j] == arr3[k]:\n",
    "            commonElements.append(arr1[i])\n",
    "            i += 1\n",
    "            j += 1\n",
    "            k += 1\n",
    "        elif arr1[i] < arr2[j]:\n",
    "            i += 1\n",
    "        elif arr2[j] < arr3[k]:\n",
    "            j += 1\n",
    "        else:\n",
    "            k += 1\n",
    "\n",
    "    return commonElements\n",
    "\n",
    "# Example usage:\n",
    "arr1 = [1, 5, 10, 20, 40, 80]\n",
    "arr2 = [6, 7, 20, 80, 100]\n",
    "arr3 = [3, 4, 15, 20, 30, 70, 80, 120]\n",
    "common = findCommonElements(arr1, arr2, arr3)\n",
    "print(common)  "
   ]
  }
 ],
 "metadata": {
  "kernelspec": {
   "display_name": "Python 3 (ipykernel)",
   "language": "python",
   "name": "python3"
  },
  "language_info": {
   "codemirror_mode": {
    "name": "ipython",
    "version": 3
   },
   "file_extension": ".py",
   "mimetype": "text/x-python",
   "name": "python",
   "nbconvert_exporter": "python",
   "pygments_lexer": "ipython3",
   "version": "3.10.8"
  }
 },
 "nbformat": 4,
 "nbformat_minor": 5
}
